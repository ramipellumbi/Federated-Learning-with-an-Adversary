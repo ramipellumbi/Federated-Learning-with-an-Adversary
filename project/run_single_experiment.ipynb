{
 "cells": [
  {
   "cell_type": "markdown",
   "metadata": {},
   "source": [
    "# Imports\n"
   ]
  },
  {
   "cell_type": "markdown",
   "metadata": {},
   "source": [
    "Standard Library & Package Imports\n"
   ]
  },
  {
   "cell_type": "code",
   "execution_count": null,
   "metadata": {},
   "outputs": [],
   "source": [
    "from functools import partial\n",
    "from typing import List\n",
    "\n",
    "import torch"
   ]
  },
  {
   "cell_type": "markdown",
   "metadata": {},
   "source": [
    "Project Imports\n"
   ]
  },
  {
   "cell_type": "code",
   "execution_count": null,
   "metadata": {},
   "outputs": [],
   "source": [
    "from attacks.weight_attack import weight_attack\n",
    "from federated.client import (\n",
    "    AdversarialClient,\n",
    "    PrivateClient,\n",
    "    PrivateAdversarialClient,\n",
    "    PublicClient,\n",
    ")\n",
    "from federated.server import Server\n",
    "from data_loaders.mnist.data_loader import DataLoader\n",
    "from models.mnist.mnist_cnn import MnistCNN as Model\n",
    "from setup import FederatedLearningConfig \n",
    "from training import train_model, test_model, TClient\n",
    "from utilities import save_results"
   ]
  },
  {
   "cell_type": "markdown",
   "metadata": {},
   "source": [
    "# Setting up the config, dataloader, clients, and server\n"
   ]
  },
  {
   "cell_type": "markdown",
   "metadata": {},
   "source": [
    "Get the configuration, torch device, and data loader\n"
   ]
  },
  {
   "cell_type": "code",
   "execution_count": null,
   "metadata": {},
   "outputs": [],
   "source": [
    "config = FederatedLearningConfig(\n",
    "    n_clients=10,\n",
    "    n_adv=2,\n",
    "    noise_multiplier=0.1,\n",
    "    n_rounds=1,\n",
    "    L=-1,\n",
    "    batch_size=64,\n",
    "    trustworthy_threshold=0,\n",
    "    should_use_iid_training_data=True,\n",
    "    should_enable_adv_protection=True,\n",
    "    should_use_private_clients=False,\n",
    "    target_epsilon=None,\n",
    "    target_delta=None,\n",
    ")\n",
    "\n",
    "if torch.backends.mps.is_available():\n",
    "    DEVICE = torch.device(\"mps\")\n",
    "elif torch.cuda.is_available():\n",
    "    DEVICE = torch.device(\"cuda\") \n",
    "else:\n",
    "    DEVICE = torch.device(\"cpu\")"
   ]
  },
  {
   "cell_type": "code",
   "execution_count": null,
   "metadata": {},
   "outputs": [],
   "source": [
    "batch_size = config.batch_size\n",
    "n_clients = config.n_clients\n",
    "use_iid = config.should_use_iid_training_data\n",
    "\n",
    "dataloader = DataLoader(\n",
    "        batch_size=batch_size,\n",
    "        device=DEVICE,\n",
    "        test_split=0.2,\n",
    "        val_split=0.2,\n",
    "        n_clients=n_clients,\n",
    "        use_iid=use_iid,\n",
    "    )"
   ]
  },
  {
   "cell_type": "markdown",
   "metadata": {},
   "source": [
    "Set up the attack, adversarial clients, and regular clients\n"
   ]
  },
  {
   "cell_type": "code",
   "execution_count": null,
   "metadata": {},
   "outputs": [],
   "source": [
    "attack = partial(weight_attack,\n",
    "                 noise_multiplier=config.noise_multiplier)\n",
    "\n",
    "n_adv = config.n_adv\n",
    "num_rounds = config.n_rounds\n",
    "should_use_private = config.should_use_private_clients\n",
    "target_epsilon = config.target_epsilon\n",
    "target_delta = config.target_delta\n",
    "\n",
    "adv_clients: List[TClient] = [\n",
    "        AdversarialClient(\n",
    "            id=f\"Adversarial Client {i}\",\n",
    "            model=Model(),\n",
    "            device=DEVICE,\n",
    "            data_loader=dataloader.train_loaders[i],\n",
    "            attack=attack,\n",
    "        )\n",
    "        if not should_use_private\n",
    "        else PrivateAdversarialClient(\n",
    "            id=f\"Private Adversarial Client {i}\",\n",
    "            model=Model(),\n",
    "            device=DEVICE,\n",
    "            data_loader=dataloader.train_loaders[i],\n",
    "            target_epsilon=target_epsilon,\n",
    "            target_delta=target_delta,\n",
    "            num_epochs=num_rounds,\n",
    "            max_grad_norm=100.0,\n",
    "            attack=attack,\n",
    "        )\n",
    "        for i in range(n_adv)\n",
    "    ]\n",
    "\n",
    "non_adv_clients: List[TClient] = [\n",
    "        (\n",
    "            PublicClient(\n",
    "                id=f\"Client {i}\",\n",
    "                model=Model(),\n",
    "                device=DEVICE,\n",
    "                data_loader=dataloader.train_loaders[i],\n",
    "            )\n",
    "        )\n",
    "        if not should_use_private\n",
    "        else (\n",
    "            PrivateClient(\n",
    "                id=f\"Private Client {i}\",\n",
    "                model=Model(),\n",
    "                device=DEVICE,\n",
    "                data_loader=dataloader.train_loaders[i],\n",
    "                target_epsilon=target_epsilon,\n",
    "                target_delta=target_delta,\n",
    "                num_epochs=num_rounds,\n",
    "                max_grad_norm=100.0,\n",
    "            )\n",
    "        )\n",
    "        for i in range(n_adv, n_clients)\n",
    "    ]\n",
    "\n",
    "clients = adv_clients + non_adv_clients"
   ]
  },
  {
   "cell_type": "markdown",
   "metadata": {},
   "source": [
    "Set up the server\n"
   ]
  },
  {
   "cell_type": "code",
   "execution_count": null,
   "metadata": {},
   "outputs": [],
   "source": [
    "enable_adv_protection = config.should_enable_adv_protection\n",
    "trust_threshold = config.trustworthy_threshold\n",
    "\n",
    "server = Server(\n",
    "        model=Model(),\n",
    "        device=DEVICE,\n",
    "        validation_data=dataloader.val_loader,\n",
    "        enable_adversary_protection=enable_adv_protection,\n",
    "        weight_threshold=trust_threshold,\n",
    "    )"
   ]
  },
  {
   "cell_type": "markdown",
   "metadata": {},
   "source": [
    "# Training\n"
   ]
  },
  {
   "cell_type": "code",
   "execution_count": null,
   "metadata": {},
   "outputs": [],
   "source": [
    "train_model(\n",
    "    server=server,\n",
    "    num_rounds=num_rounds,\n",
    "    clients=clients,\n",
    "    L=config.L,\n",
    "    is_verbose=False\n",
    ")"
   ]
  },
  {
   "cell_type": "markdown",
   "metadata": {},
   "source": [
    "# Evaluation and Saving\n"
   ]
  },
  {
   "cell_type": "code",
   "execution_count": null,
   "metadata": {},
   "outputs": [],
   "source": [
    "test_model(\n",
    "    model=server.model,\n",
    "    test_loader=dataloader.test_loader,\n",
    ")"
   ]
  },
  {
   "cell_type": "code",
   "execution_count": null,
   "metadata": {},
   "outputs": [],
   "source": [
    "save_results(\n",
    "    server=server,\n",
    "    clients=clients,\n",
    "    config=config,\n",
    ")"
   ]
  },
  {
   "cell_type": "code",
   "execution_count": null,
   "metadata": {},
   "outputs": [],
   "source": []
  }
 ],
 "metadata": {
  "kernelspec": {
   "display_name": "twdl",
   "language": "python",
   "name": "python3"
  },
  "language_info": {
   "codemirror_mode": {
    "name": "ipython",
    "version": 3
   },
   "file_extension": ".py",
   "mimetype": "text/x-python",
   "name": "python",
   "nbconvert_exporter": "python",
   "pygments_lexer": "ipython3",
   "version": "3.12.2"
  }
 },
 "nbformat": 4,
 "nbformat_minor": 2
}
