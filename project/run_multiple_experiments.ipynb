{
 "cells": [
  {
   "cell_type": "markdown",
   "metadata": {},
   "source": [
    "# Imports\n"
   ]
  },
  {
   "cell_type": "markdown",
   "metadata": {},
   "source": [
    "Standard Library & Package Imports\n"
   ]
  },
  {
   "cell_type": "code",
   "execution_count": null,
   "metadata": {},
   "outputs": [],
   "source": [
    "import itertools\n",
    "from functools import partial\n",
    "from typing import List\n",
    "\n",
    "import torch"
   ]
  },
  {
   "cell_type": "markdown",
   "metadata": {},
   "source": [
    "Project Imports\n"
   ]
  },
  {
   "cell_type": "code",
   "execution_count": null,
   "metadata": {},
   "outputs": [],
   "source": [
    "from attacks.weight_attack import weight_attack\n",
    "from federated.client import (\n",
    "    AdversarialClient,\n",
    "    PrivateClient,\n",
    "    PrivateAdversarialClient,\n",
    "    PublicClient,\n",
    "    TClient\n",
    ")\n",
    "from federated.server import Server\n",
    "from data_loaders.mnist.data_loader import DataLoader\n",
    "from models.mnist.mnist_cnn import MnistCNN as Model\n",
    "from setup import FederatedLearningConfig \n",
    "from training import train_model, test_model \n",
    "from utilities import parse_filename_to_config, save_results"
   ]
  },
  {
   "cell_type": "markdown",
   "metadata": {},
   "source": [
    "# Setting up the config, dataloader, clients, and server\n"
   ]
  },
  {
   "cell_type": "code",
   "execution_count": null,
   "metadata": {},
   "outputs": [],
   "source": [
    "if torch.backends.mps.is_available():\n",
    "    DEVICE = torch.device(\"mps\")\n",
    "elif torch.cuda.is_available():\n",
    "    DEVICE = torch.device(\"cuda\") \n",
    "else:\n",
    "    DEVICE = torch.device(\"cpu\")"
   ]
  },
  {
   "cell_type": "code",
   "execution_count": null,
   "metadata": {},
   "outputs": [],
   "source": [
    "def calculate_trustworthy_thresholds(n_clients):\n",
    "    return [\n",
    "        0,\n",
    "        1 / (1.1 * n_clients),\n",
    "        1 / (1.3 * n_clients),\n",
    "        1 / (1.5 * n_clients),\n",
    "        1 / (2.0 * n_clients),\n",
    "    ]"
   ]
  },
  {
   "cell_type": "markdown",
   "metadata": {},
   "source": [
    "Get the configuration, torch device, and data loader\n"
   ]
  },
  {
   "cell_type": "code",
   "execution_count": null,
   "metadata": {},
   "outputs": [],
   "source": [
    "CONFIG_OPTIONS = {\n",
    "    \"n_clients\": [1, 2, 5, 10],\n",
    "    \"n_adv\": [0, 1, 2, 5],\n",
    "    \"noise_multiplier\": [0.001, 0.01, 0.1, 1, 10],\n",
    "    \"n_rounds\": [20],\n",
    "    \"L\": [-1],\n",
    "    \"batch_size\": [64],\n",
    "    \"should_use_iid_training_data\": [False, True],\n",
    "    \"should_enable_adv_protection\": [False, True],\n",
    "    \"should_use_private_clients\": [False],\n",
    "    \"target_epsilon\": [None],\n",
    "    \"target_delta\": [None],\n",
    "}\n",
    "\n",
    "\n",
    "# Function to create configurations with dynamic trustworthy thresholds\n",
    "def create_configs(configs):\n",
    "    # Get the keys and values, excluding trustworthy_threshold\n",
    "    keys = list(configs.keys())\n",
    "    values = list(configs.values())\n",
    "    \n",
    "    # Generate initial configurations without trustworthy thresholds\n",
    "    initial_configs = [dict(zip(keys, v)) for v in itertools.product(*values)]\n",
    "    \n",
    "    # Extend configurations with dynamic trustworthy thresholds\n",
    "    extended_configs = []\n",
    "    for config in initial_configs:\n",
    "        n_clients = config['n_clients']\n",
    "        thresholds = calculate_trustworthy_thresholds(n_clients)\n",
    "        # always include 0 threshold\n",
    "        config['trustworthy_threshold'] = 0\n",
    "        extended_configs.append(config.copy())\n",
    "\n",
    "        if config[\"should_enable_adv_protection\"]:\n",
    "            for threshold in thresholds[1:]:\n",
    "                extended_config = config.copy()\n",
    "                extended_config['trustworthy_threshold'] = threshold\n",
    "                extended_configs.append(extended_config)\n",
    "\n",
    "    # filter out configs where n_adv > n_clients\n",
    "    extended_configs = [config for config in extended_configs if config['n_adv'] < config['n_clients']]\n",
    "    # filter out configs where noise_multiplier != 0.001 and n_adv == 0\n",
    "    extended_configs = [config for config in extended_configs if config['noise_multiplier'] == 0.001 or config['n_adv'] != 0]\n",
    "    # filter out configs where should_enable_adv_protection == True and n_adv == 0\n",
    "    extended_configs = [config for config in extended_configs if not config['should_enable_adv_protection'] or config['n_adv'] != 0]\n",
    "    # filter out all n_adv > 0 configs when n_clients == 1\n",
    "    extended_configs = [config for config in extended_configs if config['n_clients'] > 1 or config['n_adv'] == 0]\n",
    "    # filter out should_enable_adv_protection == True configs when n_clients == 1\n",
    "    extended_configs = [config for config in extended_configs if config['n_clients'] > 1 or not config['should_enable_adv_protection']]\n",
    "    # filter out n_clients = 1 and should_use_iid_training_data = False\n",
    "    extended_configs = [config for config in extended_configs if config['n_clients'] > 1 or config['should_use_iid_training_data']]\n",
    "\n",
    "    extended_configs = [FederatedLearningConfig(**config) for config in extended_configs]\n",
    "    \n",
    "    return extended_configs\n",
    "\n",
    "configs = create_configs(CONFIG_OPTIONS)"
   ]
  },
  {
   "cell_type": "code",
   "execution_count": null,
   "metadata": {},
   "outputs": [],
   "source": [
    "# get completed configs from the results/ directory\n",
    "import os\n",
    "directory_files = os.listdir('results/')\n",
    "server_files = [file for file in directory_files if '_server' in file]\n",
    "\n",
    "completed_configs = [\n",
    "    parse_filename_to_config(file)\n",
    "    for file in server_files\n",
    "]\n"
   ]
  },
  {
   "cell_type": "code",
   "execution_count": null,
   "metadata": {},
   "outputs": [],
   "source": [
    "configs_to_run = [config for config in configs if config not in completed_configs]"
   ]
  },
  {
   "cell_type": "code",
   "execution_count": null,
   "metadata": {},
   "outputs": [],
   "source": [
    "configs_to_run, len(configs_to_run)"
   ]
  },
  {
   "cell_type": "markdown",
   "metadata": {},
   "source": [
    "# Training Loop\n"
   ]
  },
  {
   "cell_type": "code",
   "execution_count": null,
   "metadata": {},
   "outputs": [],
   "source": [
    "for c_i, cfg in enumerate(configs_to_run):\n",
    "    print(f\"Running configuration {c_i + 1}/{len(configs_to_run)}\")\n",
    "    print(cfg)\n",
    "\n",
    "    batch_size = cfg.batch_size\n",
    "    enable_adv_protection = cfg.should_enable_adv_protection\n",
    "    n_adv = cfg.n_adv\n",
    "    n_clients = cfg.n_clients\n",
    "    noise_multiplier = cfg.noise_multiplier\n",
    "    num_rounds = cfg.n_rounds\n",
    "    should_use_private = cfg.should_use_private_clients\n",
    "    target_delta = cfg.target_delta\n",
    "    target_epsilon = cfg.target_epsilon\n",
    "    trust_threshold = cfg.trustworthy_threshold\n",
    "    use_iid = cfg.should_use_iid_training_data\n",
    "\n",
    "    attack = partial(weight_attack,\n",
    "                     noise_multiplier=noise_multiplier)\n",
    "\n",
    "    dataloader = DataLoader(\n",
    "            batch_size=batch_size,\n",
    "            device=DEVICE,\n",
    "            test_split=0.2,\n",
    "            val_split=0.2,\n",
    "            n_clients=n_clients,\n",
    "            use_iid=use_iid,\n",
    "        )\n",
    "\n",
    "    adv_clients: List[TClient] = [\n",
    "            AdversarialClient(\n",
    "                id=f\"Adversarial Client {i}\",\n",
    "                model=Model(),\n",
    "                device=DEVICE,\n",
    "                data_loader=dataloader.train_loaders[i],\n",
    "                attack=attack,\n",
    "            )\n",
    "            if not should_use_private\n",
    "            else PrivateAdversarialClient(\n",
    "                id=f\"Private Adversarial Client {i}\",\n",
    "                model=Model(),\n",
    "                device=DEVICE,\n",
    "                data_loader=dataloader.train_loaders[i],\n",
    "                target_epsilon=target_epsilon,\n",
    "                target_delta=target_delta,\n",
    "                num_epochs=num_rounds,\n",
    "                max_grad_norm=100.0,\n",
    "                attack=attack,\n",
    "            )\n",
    "            for i in range(n_adv)\n",
    "        ]\n",
    "    non_adv_clients: List[TClient] = [\n",
    "            (\n",
    "                PublicClient(\n",
    "                    id=f\"Client {i}\",\n",
    "                    model=Model(),\n",
    "                    device=DEVICE,\n",
    "                    data_loader=dataloader.train_loaders[i],\n",
    "                )\n",
    "            )\n",
    "            if not should_use_private\n",
    "            else (\n",
    "                PrivateClient(\n",
    "                    id=f\"Private Client {i}\",\n",
    "                    model=Model(),\n",
    "                    device=DEVICE,\n",
    "                    data_loader=dataloader.train_loaders[i],\n",
    "                    target_epsilon=target_epsilon,\n",
    "                    target_delta=target_delta,\n",
    "                    num_epochs=num_rounds,\n",
    "                    max_grad_norm=100.0,\n",
    "                )\n",
    "            )\n",
    "            for i in range(n_adv, n_clients)\n",
    "        ]\n",
    "    clients = adv_clients + non_adv_clients\n",
    "\n",
    "    server = Server(\n",
    "        model=Model(),\n",
    "        device=DEVICE,\n",
    "        validation_data=dataloader.val_loader,\n",
    "        enable_adversary_protection=enable_adv_protection,\n",
    "        weight_threshold=trust_threshold,\n",
    "    )\n",
    "\n",
    "    train_model(\n",
    "        server=server,\n",
    "        num_rounds=num_rounds,\n",
    "        clients=clients,\n",
    "        L=cfg.L,\n",
    "        is_verbose=False\n",
    "    )\n",
    "\n",
    "    test_model(\n",
    "        model=server.model,\n",
    "        test_loader=dataloader.test_loader,\n",
    "    )\n",
    "\n",
    "    save_results(\n",
    "        server=server,\n",
    "        clients=clients,\n",
    "        config=cfg,\n",
    "    )"
   ]
  }
 ],
 "metadata": {
  "kernelspec": {
   "display_name": "twdl",
   "language": "python",
   "name": "python3"
  },
  "language_info": {
   "codemirror_mode": {
    "name": "ipython",
    "version": 3
   },
   "file_extension": ".py",
   "mimetype": "text/x-python",
   "name": "python",
   "nbconvert_exporter": "python",
   "pygments_lexer": "ipython3",
   "version": "3.12.2"
  }
 },
 "nbformat": 4,
 "nbformat_minor": 2
}
